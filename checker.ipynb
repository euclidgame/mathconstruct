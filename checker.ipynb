{
 "cells": [
  {
   "cell_type": "code",
   "execution_count": 11,
   "metadata": {},
   "outputs": [],
   "source": [
    "import json"
   ]
  },
  {
   "cell_type": "code",
   "execution_count": 10,
   "metadata": {},
   "outputs": [
    {
     "name": "stdout",
     "output_type": "stream",
     "text": [
      "False\n",
      "False\n"
     ]
    }
   ],
   "source": [
    "from math_construct.problems.imo_shortlist.problem_2009_c2 import Problem2009C2\n",
    "\n",
    "with open(\"outputs/r1-qwen/no-thinking/deepseek-ai__DeepSeek-R1-Distill-Qwen-32B/imo-shortlist-2009-c2-try-1.json\", \"r\") as f:\n",
    "    data = json.load(f)\n",
    "\n",
    "for problem in data:\n",
    "    n = problem['problem']['param_values']['n']\n",
    "    N = problem['problem']['param_values']['N']\n",
    "    checker = Problem2009C2(n=n, N=N).parse_and_check(problem['response'])\n",
    "    print(checker[1])\n"
   ]
  },
  {
   "cell_type": "code",
   "execution_count": 34,
   "metadata": {},
   "outputs": [
    {
     "name": "stdout",
     "output_type": "stream",
     "text": [
      "Total correctness: 0.1111111111111111\n",
      "Total tokens: 2706.214285714286\n",
      "{'bmo-shortlist-2008-n1': False, 'bmo-shortlist-2014-c1': False, 'bmo-shortlist-2015-n7': False, 'bmo-shortlist-2018-c1': False, 'bmo-shortlist-2019-c1': False, 'bmo-shortlist-2019-c2': False, 'bulgarian-ifym-2015-p7-d4-8th': False, 'bulgarian-ifym-2022-d1-p6-8th': False, 'bulgarian-mo-r2-2021-8-4': True, 'bulgarian-pms-10-4': False, 'bulgarian-pms-2008-8-3': False, 'bulgarian-pms-2021-10-3': False, 'bulgarian-pms-2022-10-p3': False, 'bxmo-2011-1': False, 'bxmo-2015-4': True, 'bxmo-2019-2': False, 'bxmo-2020-4': False, 'bxmo-2021-2': False, 'croatian-2013-4': False, 'croatian-2014-2': False, 'croatian-2017-2': False, 'croatian-2018-4': False, 'croatian-2020-4': False, 'croatian-2022-1': False, 'croatian-2023-5': False, 'dutch-2010-4': False, 'dutch-2012-2': False, 'dutch-2014-3': False, 'dutch-2018-1': False, 'dutch-2018-2': False, 'dutch-2019-2': False, 'dutch-2024-2': False, 'emc-2016-1': False, 'emc-2016-3': False, 'emc-2021-1': False, 'emc-2022-2': False, 'emc-2023-2': False, 'imc-2012-2': False, 'imc-2013-3': False, 'imc-2018-6': False, 'imc-2019-9': False, 'imo-shortlist-2000-c4': True, 'imo-shortlist-2001-c5': False, 'imo-shortlist-2001-c6': False, 'imo-shortlist-2001-n6': False, 'imo-shortlist-2002-n4': False, 'imo-shortlist-2003-n2': False, 'imo-shortlist-2003-n3': False, 'imo-shortlist-2005-c8': False, 'imo-shortlist-2006-c5': False, 'imo-shortlist-2008-a2': False, 'imo-shortlist-2009-c2': False, 'imo-shortlist-2010-n1': False, 'imo-shortlist-2011-a1': False, 'imo-shortlist-2012-c2': False, 'imo-shortlist-2014-c3': False, 'imo-shortlist-2014-n2': False, 'imo-shortlist-2016-a5': False, 'imo-shortlist-2016-c4': False, 'imo-shortlist-2017-n3': False, 'imo-shortlist-2017-n6': False, 'imo-shortlist-2018-c1': False, 'imo-shortlist-2020-a3': True, 'imo-shortlist-2020-n1': False, 'imo-shortlist-2021-a3': False, 'imo-shortlist-2022-a5': True, 'imo-shortlist-2022-c1': False, 'imo-shortlist-2022-c8': False, 'imo-shortlist-2023-a5': False, 'imo-shortlist-2023-c2': False, 'jbmo-shortlist-2008-c1': False, 'jbmo-shortlist-2016-c2': True, 'jbmo-shortlist-2018-a7': False, 'jbmo-shortlist-2018-n4': False, 'jbmo-shortlist-2018-p3': False, 'jbmo-shortlist-2019-c4': False, 'jbmo-shortlist-2021-c5': True, 'jbmo-shortlist-2023-c1': False, 'jbmo-shortlist-2023-c2': False, 'jbmo-shortlist-2023-n3': False, 'konhauser-2013-1': False, 'konhauser-2014-7': True, 'konhauser-2015-2': True, 'konhauser-2016-1': False, 'konhauser-2016-3': False, 'konhauser-2019-1': False, 'konhauser-2020-9': False, 'konhauser-2021-10': False, 'konhauser-2023-3': False, 'misc-balticway-2005-19': False, 'misc-handout-nz1': False, 'misc-vwo-2019-4': False, 'putnam-2009-b6': False, 'putnam-2015-a2': False, 'putnam-2022-b4': False, 'putnam-2023-b2': False, 'serbian-2013-mo-4': False, 'serbian-2020-tst-4': False, 'serbian-2022-tst-3': False, 'serbian-2023-tst-1': False, 'swiss-2018-8-selection': False, 'swiss-2019-3': False, 'swiss-2020-1-selection': False, 'swiss-2021-r2-z1': False, 'swiss-2022-1-selection': True, 'swiss-2023-5': True, 'swiss-2024-11-selection': False, 'swiss-2024-12-selection': True, 'swiss-2024-3': False, 'swiss-2024-5-selection': False, 'swiss-2024-8-selection': True, 'tot-2005-1': True, 'tot-2018-1': False, 'usamo-2000-4': False, 'usamo-2001-1': False, 'usamo-2002-5': False, 'usamo-2005-1': False, 'usamo-2006-2': False, 'usamo-2006-4': False, 'usamo-2017-1': False, 'usamts-1998-1-4': False, 'usamts-1998-4-1': False, 'usamts-1999-1-2': False, 'usamts-2001-3-3': False, 'usamts-2001-4-4': False, 'usamts-2002-1-2': False}\n"
     ]
    }
   ],
   "source": [
    "import os\n",
    "import re\n",
    "\n",
    "directory = \"outputs/r1-qwen/no-thinking/pass_at_8/max_6000_budget_forcing/deepseek-ai__DeepSeek-R1-Distill-Qwen-32B\"\n",
    "\n",
    "total_correctness = 0\n",
    "total_problems = 0\n",
    "\n",
    "pattern = re.compile(r'(.*)-try-\\d+\\.json$')\n",
    "\n",
    "problem_to_correctness = {}\n",
    "problem_to_tokens = {}\n",
    "total_tries = 0\n",
    "\n",
    "for filename in os.listdir(directory):\n",
    "    match = pattern.match(filename)\n",
    "    if match:\n",
    "        prefix = match.group(1)\n",
    "        with open(os.path.join(directory, filename), \"r\") as f:\n",
    "            data = json.load(f)\n",
    "        if len(data) > 0:\n",
    "            if prefix not in problem_to_correctness:\n",
    "                problem_to_correctness[prefix] = False\n",
    "                problem_to_tokens[prefix] = 0\n",
    "            problem_to_correctness[prefix] = problem_to_correctness[prefix] or data[0]['correctness']\n",
    "            problem_to_tokens[prefix] += data[0]['cost']['output_tokens']\n",
    "            total_tries += 1\n",
    "print(f\"Total correctness: {sum(problem_to_correctness.values()) / len(problem_to_correctness)}\")\n",
    "print(f\"Total tokens: {sum(problem_to_tokens.values()) / total_tries}\")\n",
    "\n",
    "print(problem_to_correctness)"
   ]
  }
 ],
 "metadata": {
  "kernelspec": {
   "display_name": ".venv",
   "language": "python",
   "name": "python3"
  },
  "language_info": {
   "codemirror_mode": {
    "name": "ipython",
    "version": 3
   },
   "file_extension": ".py",
   "mimetype": "text/x-python",
   "name": "python",
   "nbconvert_exporter": "python",
   "pygments_lexer": "ipython3",
   "version": "3.12.9"
  }
 },
 "nbformat": 4,
 "nbformat_minor": 2
}
