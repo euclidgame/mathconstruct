{
 "cells": [
  {
   "cell_type": "code",
   "execution_count": 11,
   "metadata": {},
   "outputs": [],
   "source": [
    "import json"
   ]
  },
  {
   "cell_type": "code",
   "execution_count": 10,
   "metadata": {},
   "outputs": [
    {
     "name": "stdout",
     "output_type": "stream",
     "text": [
      "False\n",
      "False\n"
     ]
    }
   ],
   "source": [
    "from math_construct.problems.imo_shortlist.problem_2009_c2 import Problem2009C2\n",
    "\n",
    "with open(\"outputs/r1-qwen/no-thinking/deepseek-ai__DeepSeek-R1-Distill-Qwen-32B/imo-shortlist-2009-c2-try-1.json\", \"r\") as f:\n",
    "    data = json.load(f)\n",
    "\n",
    "for problem in data:\n",
    "    n = problem['problem']['param_values']['n']\n",
    "    N = problem['problem']['param_values']['N']\n",
    "    checker = Problem2009C2(n=n, N=N).parse_and_check(problem['response'])\n",
    "    print(checker[1])\n"
   ]
  },
  {
   "cell_type": "code",
   "execution_count": 41,
   "metadata": {},
   "outputs": [
    {
     "name": "stdout",
     "output_type": "stream",
     "text": [
      "Total correctness: 0.23015873015873015\n",
      "Total tokens: 2209.6344086021504\n"
     ]
    }
   ],
   "source": [
    "import os\n",
    "import re\n",
    "\n",
    "directory = \"outputs/r1-qwen/no-thinking/pass_at_8/max_10000/deepseek-ai__DeepSeek-R1-Distill-Qwen-32B\"\n",
    "\n",
    "total_correctness = 0\n",
    "total_problems = 0\n",
    "\n",
    "pattern = re.compile(r'(.*)-try-\\d+\\.json$')\n",
    "\n",
    "problem_to_correctness = {}\n",
    "total_correct_tokens = 0\n",
    "total_correct = 0\n",
    "\n",
    "for filename in os.listdir(directory):\n",
    "    match = pattern.match(filename)\n",
    "    if match:\n",
    "        prefix = match.group(1)\n",
    "        with open(os.path.join(directory, filename), \"r\") as f:\n",
    "            data = json.load(f)\n",
    "        if len(data) > 0:\n",
    "            if prefix not in problem_to_correctness:\n",
    "                problem_to_correctness[prefix] = False\n",
    "            problem_to_correctness[prefix] = problem_to_correctness[prefix] or data[0]['correctness']\n",
    "            if data[0]['correctness']:\n",
    "                total_correct += 1\n",
    "                total_correct_tokens += data[0]['cost']['output_tokens']\n",
    "\n",
    "print(f\"Total correctness: {sum(problem_to_correctness.values()) / len(problem_to_correctness)}\")\n",
    "print(f\"Total tokens: {total_correct_tokens / total_correct}\")"
   ]
  }
 ],
 "metadata": {
  "kernelspec": {
   "display_name": ".venv",
   "language": "python",
   "name": "python3"
  },
  "language_info": {
   "codemirror_mode": {
    "name": "ipython",
    "version": 3
   },
   "file_extension": ".py",
   "mimetype": "text/x-python",
   "name": "python",
   "nbconvert_exporter": "python",
   "pygments_lexer": "ipython3",
   "version": "3.12.9"
  }
 },
 "nbformat": 4,
 "nbformat_minor": 2
}
