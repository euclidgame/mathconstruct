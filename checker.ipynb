{
 "cells": [
  {
   "cell_type": "code",
   "execution_count": 2,
   "metadata": {},
   "outputs": [],
   "source": [
    "import json"
   ]
  },
  {
   "cell_type": "code",
   "execution_count": 10,
   "metadata": {},
   "outputs": [
    {
     "name": "stdout",
     "output_type": "stream",
     "text": [
      "False\n",
      "False\n"
     ]
    }
   ],
   "source": [
    "from math_construct.problems.imo_shortlist.problem_2009_c2 import Problem2009C2\n",
    "\n",
    "with open(\"outputs/r1-qwen/no-thinking/deepseek-ai__DeepSeek-R1-Distill-Qwen-32B/imo-shortlist-2009-c2-try-1.json\", \"r\") as f:\n",
    "    data = json.load(f)\n",
    "\n",
    "for problem in data:\n",
    "    n = problem['problem']['param_values']['n']\n",
    "    N = problem['problem']['param_values']['N']\n",
    "    checker = Problem2009C2(n=n, N=N).parse_and_check(problem['response'])\n",
    "    print(checker[1])\n"
   ]
  }
 ],
 "metadata": {
  "kernelspec": {
   "display_name": ".venv",
   "language": "python",
   "name": "python3"
  },
  "language_info": {
   "codemirror_mode": {
    "name": "ipython",
    "version": 3
   },
   "file_extension": ".py",
   "mimetype": "text/x-python",
   "name": "python",
   "nbconvert_exporter": "python",
   "pygments_lexer": "ipython3",
   "version": "3.12.9"
  }
 },
 "nbformat": 4,
 "nbformat_minor": 2
}
